{
 "cells": [
  {
   "cell_type": "code",
   "execution_count": 5,
   "metadata": {},
   "outputs": [],
   "source": [
    "import os, inspect, sys\n",
    "currentdir = os.path.dirname(os.path.abspath(inspect.getfile(inspect.currentframe())))\n",
    "parentdir = os.path.dirname(currentdir)\n",
    "sys.path.insert(0,parentdir)"
   ]
  },
  {
   "cell_type": "code",
   "execution_count": 6,
   "metadata": {},
   "outputs": [],
   "source": [
    "%matplotlib inline"
   ]
  },
  {
   "cell_type": "code",
   "execution_count": 12,
   "metadata": {},
   "outputs": [],
   "source": [
    "from keras.engine.saving import load_model\n",
    "import matplotlib.pyplot as plt\n",
    "import numpy as np\n",
    "import tensorflow as tf\n",
    "from src.lime_timeseries_optimized import LimeTimeSeriesExplanation\n",
    "import math\n",
    "import matplotlib\n",
    "import numpy as np\n",
    "import scipy\n",
    "from plotly import graph_objs as go\n",
    "from plotly.offline import plot, iplot\n",
    "import plotly.io as pio\n",
    "from scipy import signal\n",
    "import plotly.offline as offline\n",
    "from src.subsampling_normalization import get_chunks, downsample_chunks, chunks_magnitude_normalization\n",
    "from IPython.display import HTML\n",
    "from tensorflow.python.saved_model import tag_constants\n"
   ]
  },
  {
   "cell_type": "code",
   "execution_count": 38,
   "metadata": {},
   "outputs": [],
   "source": [
    "def plot_lime_explanation_mpl(error_idx):\n",
    "    instance= test_set[error_idx]\n",
    "    explainer = LimeTimeSeriesExplanation(feature_selection='auto', verbose=False)\n",
    "    explanations = explainer.explain_instance(timeseries=instance, num_features=10, training_set=TRAINING_SET,\n",
    "                                          num_samples=250, num_slices=40,\n",
    "                                          classifier_fn=lime_predict)\n",
    "    explanations = explanations.as_list()\n",
    "    plt.figure(figsize=(20, 7))\n",
    "    values_per_slice = math.ceil(len(instance) / 40)\n",
    "    plt.plot(instance, color='b', label='Explained instance')\n",
    "    plt.legend(loc='lower left')\n",
    "    for i in range(10):\n",
    "        feature, weight = explanations[i]\n",
    "        start = feature * values_per_slice\n",
    "        weight = abs(weight)\n",
    "        weight *= 10**25\n",
    "        if weight < 0.1:\n",
    "            weight = 0.1\n",
    "        end = start + values_per_slice\n",
    "        plt.title(\"Prediction: {} Label: {}, Index: {}\".format(predictions[error_idx], test_labels[error_idx], error_idx))\n",
    "        plt.axvspan(start , end, color='red', alpha=weight)\n",
    "    fig =  plt.gcf()\n",
    "    plt.close()\n",
    "    return fig"
   ]
  },
  {
   "cell_type": "code",
   "execution_count": 8,
   "metadata": {},
   "outputs": [
    {
     "data": {
      "text/html": [
       "<script>requirejs.config({paths: { 'plotly': ['https://cdn.plot.ly/plotly-latest.min']},});if(!window.Plotly) {{require(['plotly'],function(plotly) {window.Plotly=plotly;});}}</script>"
      ],
      "text/vnd.plotly.v1+html": [
       "<script>requirejs.config({paths: { 'plotly': ['https://cdn.plot.ly/plotly-latest.min']},});if(!window.Plotly) {{require(['plotly'],function(plotly) {window.Plotly=plotly;});}}</script>"
      ]
     },
     "metadata": {},
     "output_type": "display_data"
    }
   ],
   "source": [
    "offline.init_notebook_mode(connected=True)"
   ]
  },
  {
   "cell_type": "code",
   "execution_count": 9,
   "metadata": {},
   "outputs": [],
   "source": [
    "matplotlib.rcParams.update({'font.size': 22})"
   ]
  },
  {
   "cell_type": "code",
   "execution_count": 39,
   "metadata": {},
   "outputs": [],
   "source": [
    "def get_lime_explanation(instance, num_features=10, num_slices=40, num_samples=250):\n",
    "    explainer = LimeTimeSeriesExplanation(feature_selection='auto', verbose=False)\n",
    "    explanations = explainer.explain_instance(timeseries=instance, num_features=num_features, training_set=TRAINING_SET,\n",
    "                                              num_samples=num_samples, num_slices=num_slices,\n",
    "                                              classifier_fn=lime_predict)\n",
    "    return plot_lime_explanation(explanations, instance)\n",
    "\n",
    "\n",
    "def lime_predict(instances):\n",
    "    labels = []\n",
    "    for instance in instances:\n",
    "        instance = np.reshape(instance, newshape=(1, instance.shape[0], 1))\n",
    "        with GRAPH.as_default():\n",
    "            label = MODEL.predict(instance)\n",
    "        labels.append(label)\n",
    "    return np.array(labels).reshape(len(instances), 2)\n",
    "\n",
    "def plot_lime_explanation(explanations, instance, prediction, label, error_idx, num_slices=40):\n",
    "    exp = explanations.as_list(label=0)\n",
    "\n",
    "    trace = go.Scatter(\n",
    "        x=np.arange(0, 10000, 1),\n",
    "        y=np.squeeze(instance),\n",
    "        mode=\"lines\"\n",
    "    )\n",
    "    data = [trace]\n",
    "    if prediction == 1 and label ==0:\n",
    "        mistake = 'FN'\n",
    "    elif prediction == 0 and label == 1:\n",
    "        mistake = 'FP'\n",
    "    layout = {'font':{'size': 20},'title': 'Predykcja: {}, Etykieta: {}, Rodzaj błędu: {}'.format(prediction, label, mistake),\n",
    "              'xaxis': {'title': 'Próbka', 'showgrid': False},\n",
    "              'yaxis': {'title': 'Natężenie dźwięku', 'showgrid': False}, 'shapes': []}\n",
    "    shape = {'type': 'rect', 'xref': 'x', 'yref': 'paper', 'x0': 0, 'y0': 0, 'x1': 0, 'y1': 1, 'fillcolor': '#f24d50',\n",
    "             'opacity': 0.0, 'line': {'width': 0}, 'layer': 'below'}\n",
    "    values_per_slice = math.ceil(len(instance) / num_slices)\n",
    "    weights = [abs(sample[1]) * 10 ** 25 for sample in exp]\n",
    "    normalized_weights = [(weight - min(weights)) / (max(weights) - min(weights)) for weight in weights]\n",
    "    for i in range(len(exp)):\n",
    "        feature, _ = exp[i]\n",
    "        weight = normalized_weights[i]\n",
    "        if weight < 0.1:\n",
    "            weight = 0.1\n",
    "        start = feature * values_per_slice\n",
    "        end = start + values_per_slice\n",
    "        shape1 = shape.copy()\n",
    "        shape1.update({'x0': start, 'x1': end, 'opacity': weight})\n",
    "        layout['shapes'].append(shape1)\n",
    "    fig = go.Figure(data=data, layout=layout)\n",
    "#     pio.write_image(fig, 'images/error_{}.png'.format(error_idx))\n",
    "    return iplot(fig)"
   ]
  },
  {
   "cell_type": "code",
   "execution_count": null,
   "metadata": {},
   "outputs": [],
   "source": []
  },
  {
   "cell_type": "code",
   "execution_count": 19,
   "metadata": {},
   "outputs": [],
   "source": [
    "MODEL = load_model('/home/jczestochowska/workspace/heartbeat_classification/src/flask-app/convo_weights.h5')"
   ]
  },
  {
   "cell_type": "code",
   "execution_count": 10,
   "metadata": {},
   "outputs": [],
   "source": [
    "test_set = np.load('/home/jczestochowska/workspace/heartbeat_classification/data/processed/preprocessed/physionet/serialized/no_feature_extraction/test.npy')\n",
    "test_labels = np.load('/home/jczestochowska/workspace/heartbeat_classification/data/processed/preprocessed/physionet/serialized/no_feature_extraction/test_labels.npy')"
   ]
  },
  {
   "cell_type": "code",
   "execution_count": 21,
   "metadata": {},
   "outputs": [
    {
     "data": {
      "text/plain": [
       "(4332, 10000)"
      ]
     },
     "execution_count": 21,
     "metadata": {},
     "output_type": "execute_result"
    }
   ],
   "source": [
    "test_set.shape"
   ]
  },
  {
   "cell_type": "code",
   "execution_count": 31,
   "metadata": {},
   "outputs": [],
   "source": [
    "TRAINING_SET = np.load('/home/jczestochowska/workspace/heartbeat_classification/data/processed/preprocessed/physionet/serialized/no_feature_extraction/train.npy')"
   ]
  },
  {
   "cell_type": "code",
   "execution_count": 22,
   "metadata": {},
   "outputs": [],
   "source": [
    "test_set = test_set.reshape(test_set.shape[0], test_set.shape[1], 1)\n",
    "predictions_probs = MODEL.predict(test_set)"
   ]
  },
  {
   "cell_type": "code",
   "execution_count": 23,
   "metadata": {},
   "outputs": [],
   "source": [
    "predictions = np.argmax(predictions_probs, axis=1)"
   ]
  },
  {
   "cell_type": "code",
   "execution_count": 24,
   "metadata": {},
   "outputs": [],
   "source": [
    "errored_examples = np.where(predictions != test_labels)"
   ]
  },
  {
   "cell_type": "code",
   "execution_count": 25,
   "metadata": {},
   "outputs": [],
   "source": [
    "errored_examples = errored_examples[0]"
   ]
  },
  {
   "cell_type": "code",
   "execution_count": 121,
   "metadata": {},
   "outputs": [],
   "source": [
    "fp =0\n",
    "fn = 0\n",
    "for errored_example in errored_examples:\n",
    "    label = test_labels[errored_example]\n",
    "    prediction = np.argmax(MODEL.predict(test_set[errored_example].reshape(1,10000,1)))\n",
    "    if prediction == 1 and label == 0:\n",
    "        mistake = 'FN'\n",
    "        fn += 1\n",
    "    elif prediction == 0 and label == 1:\n",
    "        mistake = 'FP'\n",
    "        fp += 1"
   ]
  },
  {
   "cell_type": "code",
   "execution_count": 122,
   "metadata": {},
   "outputs": [
    {
     "name": "stdout",
     "output_type": "stream",
     "text": [
      "110\n",
      "225\n"
     ]
    }
   ],
   "source": [
    "print(fn)\n",
    "print(fp)"
   ]
  },
  {
   "cell_type": "code",
   "execution_count": 111,
   "metadata": {},
   "outputs": [
    {
     "data": {
      "text/plain": [
       "numpy.ndarray"
      ]
     },
     "execution_count": 111,
     "metadata": {},
     "output_type": "execute_result"
    }
   ],
   "source": [
    "type(errored_examples)"
   ]
  },
  {
   "cell_type": "code",
   "execution_count": 26,
   "metadata": {},
   "outputs": [],
   "source": [
    "global GRAPH\n",
    "GRAPH = tf.get_default_graph()"
   ]
  },
  {
   "cell_type": "code",
   "execution_count": null,
   "metadata": {},
   "outputs": [],
   "source": [
    "explainer = LimeTimeSeriesExplanation(feature_selection='auto', verbose=False)\n",
    "explanations = explainer.explain_instance(timeseries=instance, num_features=10, training_set=TRAINING_SET,\n",
    "                                          num_samples=250, num_slices=40,\n",
    "                                          classifier_fn=lime_predict)"
   ]
  },
  {
   "cell_type": "code",
   "execution_count": null,
   "metadata": {},
   "outputs": [],
   "source": [
    "explanations_list = explanations.as_list()"
   ]
  },
  {
   "cell_type": "code",
   "execution_count": null,
   "metadata": {},
   "outputs": [],
   "source": [
    "for error_idx in errored_examples:\n",
    "    plt.figure(figsize=(20,7))\n",
    "    plt.plot(test_set[error_idx])\n",
    "    plt.title(\"Prediction: {} Label: {}, Index: {}\".format(predictions[error_idx], test_labels[error_idx], error_idx))\n",
    "    plt.show()"
   ]
  },
  {
   "cell_type": "code",
   "execution_count": null,
   "metadata": {},
   "outputs": [],
   "source": [
    "with open(\"images/error_plots.html\") as f:\n",
    "    for error_idx in errored_examples:\n",
    "        html = plot_lime_explanation(explanations, error_idx=error_idx, prediction=predictions[error_idx], label=test_labels[error_idx],instance=test_set[error_idx])\n",
    "        f.write(html)\n",
    "        f.write('\\n')"
   ]
  },
  {
   "cell_type": "code",
   "execution_count": 113,
   "metadata": {},
   "outputs": [],
   "source": [
    "import random\n",
    "indices = random.sample(list(errored_examples), 100)\n",
    "for error_idx in indices:\n",
    "    print(error_idx)\n",
    "    explainer = LimeTimeSeriesExplanation(feature_selection='auto', verbose=False)\n",
    "    explanations = explainer.explain_instance(timeseries=test_set[error_idx], num_features=10, training_set=TRAINING_SET[:100],\n",
    "                                              num_samples=250, num_slices=40,\n",
    "                                              classifier_fn=lime_predict)\n",
    "    plot_lime_explanation(explanations=explanations, error_idx=error_idx, prediction=predictions[error_idx], label=test_labels[error_idx],instance=test_set[error_idx])"
   ]
  },
  {
   "cell_type": "code",
   "execution_count": 126,
   "metadata": {},
   "outputs": [],
   "source": [
    "error_idx = 3476\n",
    "explainer = LimeTimeSeriesExplanation(feature_selection='auto', verbose=False)\n",
    "explanations = explainer.explain_instance(timeseries=test_set[error_idx], num_features=10, training_set=TRAINING_SET[:100],\n",
    "                                          num_samples=250, num_slices=40,\n",
    "                                          classifier_fn=lime_predict)\n",
    "plot_lime_explanation(explanations=explanations, error_idx=error_idx, prediction=predictions[error_idx], label=test_labels[error_idx],instance=test_set[error_idx])\n",
    "print(explanations.as_list())"
   ]
  },
  {
   "cell_type": "code",
   "execution_count": 152,
   "metadata": {},
   "outputs": [],
   "source": [
    "error_idx = 2318\n",
    "explainer = LimeTimeSeriesExplanation(feature_selection='auto', verbose=False)\n",
    "explanations = explainer.explain_instance(timeseries=test_set[error_idx], num_features=10, training_set=TRAINING_SET[:100],\n",
    "                                          num_samples=250, num_slices=40,\n",
    "                                          classifier_fn=lime_predict)\n",
    "plot_lime_explanation(explanations=explanations, error_idx=error_idx, prediction=predictions[error_idx], label=test_labels[error_idx],instance=test_set[error_idx])\n",
    "print(explanations.as_list())"
   ]
  },
  {
   "cell_type": "code",
   "execution_count": 145,
   "metadata": {},
   "outputs": [],
   "source": [
    "error_idx = 1001\n",
    "explainer = LimeTimeSeriesExplanation(feature_selection='auto', verbose=False)\n",
    "explanations = explainer.explain_instance(timeseries=test_set[error_idx], num_features=10, training_set=TRAINING_SET[:100],\n",
    "                                          num_samples=250, num_slices=40,\n",
    "                                          classifier_fn=lime_predict)\n",
    "plot_lime_explanation(explanations=explanations, error_idx=error_idx, prediction=predictions[error_idx], label=test_labels[error_idx],instance=test_set[error_idx])\n",
    "print(explanations.as_list())"
   ]
  },
  {
   "cell_type": "code",
   "execution_count": 146,
   "metadata": {},
   "outputs": [],
   "source": [
    "error_idx = 1001\n",
    "explainer = LimeTimeSeriesExplanation(feature_selection='auto', verbose=False)\n",
    "explanations = explainer.explain_instance(timeseries=test_set[error_idx], num_features=10, training_set=TRAINING_SET[:100],\n",
    "                                          num_samples=250, num_slices=40,\n",
    "                                          classifier_fn=lime_predict)\n",
    "plot_lime_explanation(explanations=explanations, error_idx=error_idx, prediction=predictions[error_idx], label=test_labels[error_idx],instance=test_set[error_idx])\n",
    "print(explanations.as_list())"
   ]
  },
  {
   "cell_type": "code",
   "execution_count": 33,
   "metadata": {},
   "outputs": [],
   "source": [
    "from librosa import feature\n",
    "\n",
    "def lime_lr_predict(instances):\n",
    "    predictions = []\n",
    "    graph = tf.Graph()\n",
    "    with graph.as_default():\n",
    "        with tf.Session(graph=graph) as sess:\n",
    "            tf.saved_model.loader.load(\n",
    "                sess,\n",
    "                [tag_constants.SERVING],\n",
    "                \"/home/jczestochowska/workspace/heartbeat_classification/models/logistic_regression_weights\"\n",
    "            )\n",
    "            i=0\n",
    "            for instance in instances:\n",
    "                instance = feature.mfcc(instance, 2000)\n",
    "                w = graph.get_tensor_by_name(\"Variable:0\")\n",
    "                b = graph.get_tensor_by_name(\"Variable_1:0\")\n",
    "                instance = instance.reshape(1, 400)\n",
    "                logits = tf.matmul(instance, w) + b\n",
    "                prediction = sess.run(tf.sigmoid(logits))\n",
    "                predictions.append(prediction)\n",
    "                print(i)\n",
    "                i +=1\n",
    "    return np.array(predictions).reshape(len(instances), 2)"
   ]
  },
  {
   "cell_type": "code",
   "execution_count": 34,
   "metadata": {},
   "outputs": [],
   "source": [
    "predictions_lr = lime_lr_predict(test_set)"
   ]
  },
  {
   "cell_type": "code",
   "execution_count": 35,
   "metadata": {},
   "outputs": [],
   "source": [
    "errors_lr = np.where(predictions_lr != test_labels)"
   ]
  },
  {
   "cell_type": "code",
   "execution_count": null,
   "metadata": {},
   "outputs": [],
   "source": [
    "len(errors_lr[0])"
   ]
  },
  {
   "cell_type": "code",
   "execution_count": 41,
   "metadata": {},
   "outputs": [],
   "source": [
    "error_idx = 1\n",
    "explainer = LimeTimeSeriesExplanation(feature_selection='auto', verbose=False)\n",
    "explanations = explainer.explain_instance(timeseries=test_set[error_idx], num_features=10, training_set=TRAINING_SET[:100],\n",
    "                                          num_samples=250, num_slices=40,\n",
    "                                          classifier_fn=lime_lr_predict)\n",
    "plot_lime_explanation(explanations=explanations, error_idx=error_idx, prediction=predictions_lr[error_idx], label=test_labels[error_idx],instance=test_set[error_idx])"
   ]
  },
  {
   "cell_type": "code",
   "execution_count": 42,
   "metadata": {},
   "outputs": [],
   "source": [
    "explanations.as_list()"
   ]
  },
  {
   "cell_type": "code",
   "execution_count": null,
   "metadata": {},
   "outputs": [],
   "source": [
    "import matplotlib.backends.backend_pdf\n",
    "import random\n",
    "random_erored_examples = random.sample(list(errored_examples), k=30)"
   ]
  },
  {
   "cell_type": "code",
   "execution_count": null,
   "metadata": {},
   "outputs": [],
   "source": [
    "pdf = matplotlib.backends.backend_pdf.PdfPages(\"errors_lime.pdf\")\n",
    "for error_idx in random_erored_examples: ## will open an empty extra figure :(\n",
    "    pdf.savefig(plot_lime_explanation_mpl(error_idx))\n",
    "pdf.close()"
   ]
  }
 ],
 "metadata": {
  "kernelspec": {
   "display_name": "Python 3",
   "language": "python",
   "name": "python3"
  },
  "language_info": {
   "codemirror_mode": {
    "name": "ipython",
    "version": 3
   },
   "file_extension": ".py",
   "mimetype": "text/x-python",
   "name": "python",
   "nbconvert_exporter": "python",
   "pygments_lexer": "ipython3",
   "version": "3.6.3"
  }
 },
 "nbformat": 4,
 "nbformat_minor": 2
}
